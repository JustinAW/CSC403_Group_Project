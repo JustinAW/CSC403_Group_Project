{
 "cells": [
  {
   "cell_type": "code",
   "execution_count": 1,
   "metadata": {},
   "outputs": [],
   "source": [
    "# To support both python 2 and python 3\n",
    "from __future__ import division, print_function, unicode_literals\n",
    "\n",
    "# Common imports\n",
    "import numpy as np\n",
    "import os\n",
    "\n",
    "# to make this notebook's output stable across runs\n",
    "np.random.seed(42)\n",
    "\n",
    "# To plot pretty figures\n",
    "%matplotlib inline\n",
    "import matplotlib as mpl\n",
    "import matplotlib.pyplot as plt\n",
    "mpl.rc('axes', labelsize=14)\n",
    "mpl.rc('xtick', labelsize=12)\n",
    "mpl.rc('ytick', labelsize=12)\n",
    "\n",
    "# Where to save the figures\n",
    "PROJECT_ROOT_DIR = \".\"\n",
    "CHAPTER_ID = \"SGDspeeddating\"\n",
    "\n",
    "def save_fig(fig_id, tight_layout=True):\n",
    "    path = os.path.join(PROJECT_ROOT_DIR, \"images\", CHAPTER_ID, fig_id + \".png\")\n",
    "    print(\"Saving figure\", fig_id)\n",
    "    if tight_layout:\n",
    "        plt.tight_layout()\n",
    "    plt.savefig(path, format='png', dpi=300)"
   ]
  },
  {
   "cell_type": "code",
   "execution_count": 2,
   "metadata": {},
   "outputs": [],
   "source": [
    "import pandas as pd"
   ]
  },
  {
   "cell_type": "code",
   "execution_count": 3,
   "metadata": {},
   "outputs": [],
   "source": [
    "# for reading in the data from a csv into a pandas dataframe\n",
    "def load_data():\n",
    "    return pd.read_csv('../Dataset/speeddating.csv')"
   ]
  },
  {
   "cell_type": "code",
   "execution_count": 49,
   "metadata": {},
   "outputs": [],
   "source": [
    "# read the data into speeddating\n",
    "speeddating = load_data()"
   ]
  },
  {
   "cell_type": "code",
   "execution_count": 187,
   "metadata": {},
   "outputs": [],
   "source": [
    "# check out the first 5 values\n",
    "#speeddating.head()"
   ]
  },
  {
   "cell_type": "code",
   "execution_count": 50,
   "metadata": {},
   "outputs": [
    {
     "name": "stdout",
     "output_type": "stream",
     "text": [
      "<class 'pandas.core.frame.DataFrame'>\n",
      "RangeIndex: 8378 entries, 0 to 8377\n",
      "Data columns (total 42 columns):\n",
      "gender                           8378 non-null int64\n",
      "d_age                            8378 non-null int64\n",
      "samerace                         8378 non-null int64\n",
      "importance_same_race             8299 non-null float64\n",
      "field                            8315 non-null object\n",
      "pref_o_attractive                8289 non-null float64\n",
      "pref_o_sincere                   8289 non-null float64\n",
      "pref_o_intelligence              8289 non-null float64\n",
      "pref_o_funny                     8280 non-null float64\n",
      "pref_o_ambitious                 8271 non-null float64\n",
      "pref_o_shared_interests          8249 non-null float64\n",
      "attractive_o                     8166 non-null float64\n",
      "sinsere_o                        8091 non-null float64\n",
      "intelligence_o                   8072 non-null float64\n",
      "funny_o                          8018 non-null float64\n",
      "ambitous_o                       7656 non-null float64\n",
      "shared_interests_o               7302 non-null float64\n",
      "attractive_important             8299 non-null float64\n",
      "sincere_important                8299 non-null float64\n",
      "intellicence_important           8299 non-null float64\n",
      "funny_important                  8289 non-null float64\n",
      "ambtition_important              8279 non-null float64\n",
      "shared_interests_important       8257 non-null float64\n",
      "attractive                       8273 non-null float64\n",
      "sincere                          8273 non-null float64\n",
      "intelligence                     8273 non-null float64\n",
      "funny                            8273 non-null float64\n",
      "ambition                         8273 non-null float64\n",
      "attractive_partner               8176 non-null float64\n",
      "sincere_partner                  8101 non-null float64\n",
      "intelligence_partner             8082 non-null float64\n",
      "funny_partner                    8028 non-null float64\n",
      "ambition_partner                 7666 non-null float64\n",
      "shared_interests_partner         7311 non-null float64\n",
      "interests_correlate              8220 non-null float64\n",
      "expected_happy_with_sd_people    8277 non-null float64\n",
      "expected_num_interested_in_me    1800 non-null float64\n",
      "expected_num_matches             7205 non-null float64\n",
      "like                             8138 non-null float64\n",
      "guess_prob_liked                 8069 non-null float64\n",
      "met                              8003 non-null float64\n",
      "match                            8378 non-null int64\n",
      "dtypes: float64(37), int64(4), object(1)\n",
      "memory usage: 2.7+ MB\n"
     ]
    }
   ],
   "source": [
    "# shows where null values exist and other cool info\n",
    "speeddating.info()"
   ]
  },
  {
   "cell_type": "code",
   "execution_count": 12,
   "metadata": {},
   "outputs": [],
   "source": [
    "# plug in an feature name to see how often each possible feature value occurs\n",
    "#speeddating[\"field\"].value_counts()"
   ]
  },
  {
   "cell_type": "code",
   "execution_count": 63,
   "metadata": {},
   "outputs": [],
   "source": [
    "# some useful stats on the dataset\n",
    "#speeddating.describe()"
   ]
  },
  {
   "cell_type": "code",
   "execution_count": 17,
   "metadata": {},
   "outputs": [],
   "source": [
    "# make histograms for all the features\n",
    "#speeddating.hist(bins=50, figsize=(20,15))\n",
    "#plt.show()"
   ]
  },
  {
   "cell_type": "code",
   "execution_count": 138,
   "metadata": {},
   "outputs": [],
   "source": [
    "# make a single histogram for a particular feature\n",
    "#speeddating[\"\"].hist(bins=50, figsize=(20,15))\n",
    "#plt.show()"
   ]
  },
  {
   "cell_type": "code",
   "execution_count": 51,
   "metadata": {},
   "outputs": [],
   "source": [
    "# contains null values and since it is text, they cannot be replaced\n",
    "speeddating = speeddating.drop('field', axis=1)"
   ]
  },
  {
   "cell_type": "code",
   "execution_count": 52,
   "metadata": {},
   "outputs": [],
   "source": [
    "from sklearn.model_selection import train_test_split\n",
    "\n",
    "sd_train, sd_test = train_test_split(speeddating, test_size=0.2, random_state=42)"
   ]
  },
  {
   "cell_type": "code",
   "execution_count": 189,
   "metadata": {},
   "outputs": [],
   "source": [
    "# loop by column \n",
    "#for col in speeddating:\n",
    "#    print (col)"
   ]
  },
  {
   "cell_type": "code",
   "execution_count": 9,
   "metadata": {},
   "outputs": [],
   "source": [
    "# Replace NULL values with the median\n",
    "#for col in speeddating:\n",
    "#    # field feature doesn't have a median - it's an object\n",
    "#    if(col != 'field'):\n",
    "#        median = speeddating[col].median()\n",
    "#        speeddating[col].fillna(median, inplace=True)\n",
    "#speeddating.info()"
   ]
  },
  {
   "cell_type": "code",
   "execution_count": 53,
   "metadata": {},
   "outputs": [],
   "source": [
    "corr_matrix = speeddating.corr()"
   ]
  },
  {
   "cell_type": "code",
   "execution_count": 54,
   "metadata": {},
   "outputs": [
    {
     "data": {
      "text/plain": [
       "match                            1.000000\n",
       "like                             0.305723\n",
       "funny_o                          0.277700\n",
       "funny_partner                    0.277545\n",
       "shared_interests_o               0.270840\n",
       "shared_interests_partner         0.270679\n",
       "attractive_o                     0.260837\n",
       "attractive_partner               0.260676\n",
       "guess_prob_liked                 0.255531\n",
       "intelligence_partner             0.169532\n",
       "intelligence_o                   0.169448\n",
       "sinsere_o                        0.164523\n",
       "sincere_partner                  0.164449\n",
       "expected_num_interested_in_me    0.143755\n",
       "ambition_partner                 0.140042\n",
       "ambitous_o                       0.139927\n",
       "expected_num_matches             0.130592\n",
       "met                              0.100427\n",
       "intelligence                     0.051066\n",
       "funny_important                  0.041652\n",
       "pref_o_funny                     0.041483\n",
       "attractive                       0.036439\n",
       "interests_correlate              0.031121\n",
       "expected_happy_with_sd_people    0.027880\n",
       "pref_o_attractive                0.015663\n",
       "attractive_important             0.014950\n",
       "intellicence_important           0.014087\n",
       "pref_o_intelligence              0.013761\n",
       "samerace                         0.013028\n",
       "ambition                         0.010592\n",
       "funny                            0.004327\n",
       "gender                          -0.000530\n",
       "sincere                         -0.001965\n",
       "ambtition_important             -0.004444\n",
       "pref_o_ambitious                -0.004650\n",
       "sincere_important               -0.032325\n",
       "pref_o_sincere                  -0.032391\n",
       "d_age                           -0.038239\n",
       "shared_interests_important      -0.048318\n",
       "pref_o_shared_interests         -0.048399\n",
       "importance_same_race            -0.049032\n",
       "Name: match, dtype: float64"
      ]
     },
     "execution_count": 54,
     "metadata": {},
     "output_type": "execute_result"
    }
   ],
   "source": [
    "corr_matrix[\"match\"].sort_values(ascending=False)"
   ]
  },
  {
   "cell_type": "code",
   "execution_count": 55,
   "metadata": {},
   "outputs": [],
   "source": [
    "# create train and test data and targets/labels (not cleaned)\n",
    "sd_train_x = sd_train.drop('match', axis=1)\n",
    "sd_train_y = sd_train['match'].copy()\n",
    "sd_test_x = sd_test.drop('match', axis=1)\n",
    "sd_test_y = sd_test['match'].copy()"
   ]
  },
  {
   "cell_type": "code",
   "execution_count": 10,
   "metadata": {},
   "outputs": [],
   "source": [
    "# use sklearn's imputer to replace missing values\n",
    "# this will store the median of each feature in its\n",
    "# statistics_ variable\n",
    "from sklearn.impute import SimpleImputer"
   ]
  },
  {
   "cell_type": "code",
   "execution_count": 27,
   "metadata": {},
   "outputs": [],
   "source": [
    "# using just the imputer\n",
    "#imputer = SimpleImputer(strategy='median')"
   ]
  },
  {
   "cell_type": "code",
   "execution_count": 56,
   "metadata": {},
   "outputs": [
    {
     "data": {
      "text/plain": [
       "SimpleImputer(copy=True, fill_value=None, missing_values=nan,\n",
       "       strategy='median', verbose=0)"
      ]
     },
     "execution_count": 56,
     "metadata": {},
     "output_type": "execute_result"
    }
   ],
   "source": [
    "#imputer.fit(sd_train_x)"
   ]
  },
  {
   "cell_type": "code",
   "execution_count": 57,
   "metadata": {},
   "outputs": [
    {
     "data": {
      "text/plain": [
       "array([ 0.   ,  3.   ,  0.   ,  3.   , 20.   , 18.37 , 20.   , 18.   ,\n",
       "       10.   , 10.585,  6.   ,  7.   ,  7.   ,  7.   ,  7.   ,  6.   ,\n",
       "       20.   , 18.18 , 20.   , 18.   , 10.   , 11.   ,  7.   ,  8.   ,\n",
       "        8.   ,  8.   ,  8.   ,  6.   ,  7.   ,  7.   ,  7.   ,  7.   ,\n",
       "        6.   ,  0.21 ,  6.   ,  4.   ,  3.   ,  6.   ,  5.   ,  0.   ])"
      ]
     },
     "execution_count": 57,
     "metadata": {},
     "output_type": "execute_result"
    }
   ],
   "source": [
    "#imputer.statistics_"
   ]
  },
  {
   "cell_type": "code",
   "execution_count": 58,
   "metadata": {},
   "outputs": [
    {
     "data": {
      "text/plain": [
       "array([ 0.   ,  3.   ,  0.   ,  3.   , 20.   , 18.37 , 20.   , 18.   ,\n",
       "       10.   , 10.585,  6.   ,  7.   ,  7.   ,  7.   ,  7.   ,  6.   ,\n",
       "       20.   , 18.18 , 20.   , 18.   , 10.   , 11.   ,  7.   ,  8.   ,\n",
       "        8.   ,  8.   ,  8.   ,  6.   ,  7.   ,  7.   ,  7.   ,  7.   ,\n",
       "        6.   ,  0.21 ,  6.   ,  4.   ,  3.   ,  6.   ,  5.   ,  0.   ])"
      ]
     },
     "execution_count": 58,
     "metadata": {},
     "output_type": "execute_result"
    }
   ],
   "source": [
    "#sd_train_x.median().values"
   ]
  },
  {
   "cell_type": "code",
   "execution_count": 59,
   "metadata": {},
   "outputs": [],
   "source": [
    "# makes a plain numpy array\n",
    "#X = imputer.transform(sd_train_x)"
   ]
  },
  {
   "cell_type": "code",
   "execution_count": 75,
   "metadata": {},
   "outputs": [],
   "source": [
    "# put it back into a pandas dataframe (if you want)\n",
    "#X_train = pd.DataFrame(X, columns=sd_train_x.columns)"
   ]
  },
  {
   "cell_type": "code",
   "execution_count": 74,
   "metadata": {},
   "outputs": [],
   "source": [
    "#X_train.info()"
   ]
  },
  {
   "cell_type": "code",
   "execution_count": 64,
   "metadata": {},
   "outputs": [],
   "source": [
    "# for creating a pipeline to pass data through in a a specific order\n",
    "# data -> imputer -> std_scaler -> cleaned and standardized data\n",
    "from sklearn.pipeline import Pipeline\n",
    "from sklearn.preprocessing import StandardScaler\n",
    "\n",
    "pipeline = Pipeline([\n",
    "    ('imputer', SimpleImputer(strategy='median')),\n",
    "    ('std_scaler', StandardScaler()),\n",
    "])"
   ]
  },
  {
   "cell_type": "code",
   "execution_count": 71,
   "metadata": {},
   "outputs": [],
   "source": [
    "X_train_sd = pipeline.fit_transform(sd_train_x)\n",
    "X_test_sd = pipeline.fit_transform(sd_test_x)"
   ]
  },
  {
   "cell_type": "code",
   "execution_count": 72,
   "metadata": {},
   "outputs": [
    {
     "data": {
      "text/plain": [
       "(6702, 40)"
      ]
     },
     "execution_count": 72,
     "metadata": {},
     "output_type": "execute_result"
    }
   ],
   "source": [
    "X_train_sd.shape"
   ]
  },
  {
   "cell_type": "code",
   "execution_count": 73,
   "metadata": {},
   "outputs": [
    {
     "data": {
      "text/plain": [
       "(1676, 40)"
      ]
     },
     "execution_count": 73,
     "metadata": {},
     "output_type": "execute_result"
    }
   ],
   "source": [
    "X_test_sd.shape"
   ]
  },
  {
   "cell_type": "code",
   "execution_count": null,
   "metadata": {},
   "outputs": [],
   "source": []
  }
 ],
 "metadata": {
  "kernelspec": {
   "display_name": "Python 3",
   "language": "python",
   "name": "python3"
  },
  "language_info": {
   "codemirror_mode": {
    "name": "ipython",
    "version": 3
   },
   "file_extension": ".py",
   "mimetype": "text/x-python",
   "name": "python",
   "nbconvert_exporter": "python",
   "pygments_lexer": "ipython3",
   "version": "3.7.3"
  }
 },
 "nbformat": 4,
 "nbformat_minor": 2
}
