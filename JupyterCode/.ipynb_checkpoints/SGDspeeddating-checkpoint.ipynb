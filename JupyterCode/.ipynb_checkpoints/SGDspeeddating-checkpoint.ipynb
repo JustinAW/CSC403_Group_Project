{
 "cells": [
  {
   "cell_type": "code",
   "execution_count": 1,
   "metadata": {},
   "outputs": [],
   "source": [
    "# To support both python 2 and python 3\n",
    "from __future__ import division, print_function, unicode_literals\n",
    "\n",
    "# Common imports\n",
    "import numpy as np\n",
    "import os\n",
    "\n",
    "# to make this notebook's output stable across runs\n",
    "np.random.seed(42)\n",
    "\n",
    "# To plot pretty figures\n",
    "%matplotlib inline\n",
    "import matplotlib as mpl\n",
    "import matplotlib.pyplot as plt\n",
    "mpl.rc('axes', labelsize=14)\n",
    "mpl.rc('xtick', labelsize=12)\n",
    "mpl.rc('ytick', labelsize=12)\n",
    "\n",
    "# Where to save the figures\n",
    "PROJECT_ROOT_DIR = \".\"\n",
    "CHAPTER_ID = \"SGDspeeddating\"\n",
    "\n",
    "def save_fig(fig_id, tight_layout=True):\n",
    "    path = os.path.join(PROJECT_ROOT_DIR, \"images\", CHAPTER_ID, fig_id + \".png\")\n",
    "    print(\"Saving figure\", fig_id)\n",
    "    if tight_layout:\n",
    "        plt.tight_layout()\n",
    "    plt.savefig(path, format='png', dpi=300)"
   ]
  },
  {
   "cell_type": "code",
   "execution_count": 24,
   "metadata": {},
   "outputs": [],
   "source": [
    "import pandas as pd"
   ]
  },
  {
   "cell_type": "code",
   "execution_count": 25,
   "metadata": {},
   "outputs": [],
   "source": [
    "# for reading in the data from a csv into a pandas dataframe\n",
    "def load_data():\n",
    "    return pd.read_csv('../Dataset/speeddating.csv')"
   ]
  },
  {
   "cell_type": "code",
   "execution_count": 181,
   "metadata": {},
   "outputs": [],
   "source": [
    "# read the data into speeddating\n",
    "speeddating = load_data()"
   ]
  },
  {
   "cell_type": "code",
   "execution_count": 187,
   "metadata": {},
   "outputs": [],
   "source": [
    "# check out the first 5 values\n",
    "#speeddating.head()"
   ]
  },
  {
   "cell_type": "code",
   "execution_count": 183,
   "metadata": {},
   "outputs": [
    {
     "name": "stdout",
     "output_type": "stream",
     "text": [
      "<class 'pandas.core.frame.DataFrame'>\n",
      "RangeIndex: 8378 entries, 0 to 8377\n",
      "Data columns (total 42 columns):\n",
      "gender                           8378 non-null int64\n",
      "d_age                            8378 non-null int64\n",
      "samerace                         8378 non-null int64\n",
      "importance_same_race             8299 non-null float64\n",
      "field                            8315 non-null object\n",
      "pref_o_attractive                8289 non-null float64\n",
      "pref_o_sincere                   8289 non-null float64\n",
      "pref_o_intelligence              8289 non-null float64\n",
      "pref_o_funny                     8280 non-null float64\n",
      "pref_o_ambitious                 8271 non-null float64\n",
      "pref_o_shared_interests          8249 non-null float64\n",
      "attractive_o                     8166 non-null float64\n",
      "sinsere_o                        8091 non-null float64\n",
      "intelligence_o                   8072 non-null float64\n",
      "funny_o                          8018 non-null float64\n",
      "ambitous_o                       7656 non-null float64\n",
      "shared_interests_o               7302 non-null float64\n",
      "attractive_important             8299 non-null float64\n",
      "sincere_important                8299 non-null float64\n",
      "intellicence_important           8299 non-null float64\n",
      "funny_important                  8289 non-null float64\n",
      "ambtition_important              8279 non-null float64\n",
      "shared_interests_important       8257 non-null float64\n",
      "attractive                       8273 non-null float64\n",
      "sincere                          8273 non-null float64\n",
      "intelligence                     8273 non-null float64\n",
      "funny                            8273 non-null float64\n",
      "ambition                         8273 non-null float64\n",
      "attractive_partner               8176 non-null float64\n",
      "sincere_partner                  8101 non-null float64\n",
      "intelligence_partner             8082 non-null float64\n",
      "funny_partner                    8028 non-null float64\n",
      "ambition_partner                 7666 non-null float64\n",
      "shared_interests_partner         7311 non-null float64\n",
      "interests_correlate              8220 non-null float64\n",
      "expected_happy_with_sd_people    8277 non-null float64\n",
      "expected_num_interested_in_me    1800 non-null float64\n",
      "expected_num_matches             7205 non-null float64\n",
      "like                             8138 non-null float64\n",
      "guess_prob_liked                 8069 non-null float64\n",
      "met                              8003 non-null float64\n",
      "match                            8378 non-null int64\n",
      "dtypes: float64(37), int64(4), object(1)\n",
      "memory usage: 2.7+ MB\n"
     ]
    }
   ],
   "source": [
    "# shows where null values exist and other cool info\n",
    "speeddating.info()"
   ]
  },
  {
   "cell_type": "code",
   "execution_count": 184,
   "metadata": {},
   "outputs": [],
   "source": [
    "# plug in an feature name to see how often each possible feature value occurs\n",
    "#speeddating[\"\"].value_counts()"
   ]
  },
  {
   "cell_type": "code",
   "execution_count": 188,
   "metadata": {},
   "outputs": [],
   "source": [
    "# some useful stats on the dataset\n",
    "#speeddating.describe()"
   ]
  },
  {
   "cell_type": "code",
   "execution_count": 139,
   "metadata": {},
   "outputs": [],
   "source": [
    "# make histograms for all the features\n",
    "#speeddating.hist(bins=50, figsize=(20,15))\n",
    "#plt.show()"
   ]
  },
  {
   "cell_type": "code",
   "execution_count": 138,
   "metadata": {},
   "outputs": [],
   "source": [
    "# make a single histogram for a particular feature\n",
    "#speeddating[\"\"].hist(bins=50, figsize=(20,15))\n",
    "#plt.show()"
   ]
  },
  {
   "cell_type": "code",
   "execution_count": 189,
   "metadata": {},
   "outputs": [],
   "source": [
    "# loop by column \n",
    "#for col in speeddating:\n",
    "#    print (col)"
   ]
  },
  {
   "cell_type": "code",
   "execution_count": 186,
   "metadata": {},
   "outputs": [
    {
     "name": "stdout",
     "output_type": "stream",
     "text": [
      "<class 'pandas.core.frame.DataFrame'>\n",
      "RangeIndex: 8378 entries, 0 to 8377\n",
      "Data columns (total 42 columns):\n",
      "gender                           8378 non-null int64\n",
      "d_age                            8378 non-null int64\n",
      "samerace                         8378 non-null int64\n",
      "importance_same_race             8378 non-null float64\n",
      "field                            8315 non-null object\n",
      "pref_o_attractive                8378 non-null float64\n",
      "pref_o_sincere                   8378 non-null float64\n",
      "pref_o_intelligence              8378 non-null float64\n",
      "pref_o_funny                     8378 non-null float64\n",
      "pref_o_ambitious                 8378 non-null float64\n",
      "pref_o_shared_interests          8378 non-null float64\n",
      "attractive_o                     8378 non-null float64\n",
      "sinsere_o                        8378 non-null float64\n",
      "intelligence_o                   8378 non-null float64\n",
      "funny_o                          8378 non-null float64\n",
      "ambitous_o                       8378 non-null float64\n",
      "shared_interests_o               8378 non-null float64\n",
      "attractive_important             8378 non-null float64\n",
      "sincere_important                8378 non-null float64\n",
      "intellicence_important           8378 non-null float64\n",
      "funny_important                  8378 non-null float64\n",
      "ambtition_important              8378 non-null float64\n",
      "shared_interests_important       8378 non-null float64\n",
      "attractive                       8378 non-null float64\n",
      "sincere                          8378 non-null float64\n",
      "intelligence                     8378 non-null float64\n",
      "funny                            8378 non-null float64\n",
      "ambition                         8378 non-null float64\n",
      "attractive_partner               8378 non-null float64\n",
      "sincere_partner                  8378 non-null float64\n",
      "intelligence_partner             8378 non-null float64\n",
      "funny_partner                    8378 non-null float64\n",
      "ambition_partner                 8378 non-null float64\n",
      "shared_interests_partner         8378 non-null float64\n",
      "interests_correlate              8378 non-null float64\n",
      "expected_happy_with_sd_people    8378 non-null float64\n",
      "expected_num_interested_in_me    8378 non-null float64\n",
      "expected_num_matches             8378 non-null float64\n",
      "like                             8378 non-null float64\n",
      "guess_prob_liked                 8378 non-null float64\n",
      "met                              8378 non-null float64\n",
      "match                            8378 non-null int64\n",
      "dtypes: float64(37), int64(4), object(1)\n",
      "memory usage: 2.7+ MB\n"
     ]
    }
   ],
   "source": [
    "# Replace NULL values with the median\n",
    "for col in speeddating:\n",
    "    # field feature doesn't have a median - it's an object\n",
    "    if(col != 'field'):\n",
    "        median = speeddating[col].median()\n",
    "        speeddating[col].fillna(median, inplace=True)\n",
    "speeddating.info()"
   ]
  },
  {
   "cell_type": "code",
   "execution_count": 156,
   "metadata": {},
   "outputs": [],
   "source": []
  },
  {
   "cell_type": "code",
   "execution_count": null,
   "metadata": {},
   "outputs": [],
   "source": []
  },
  {
   "cell_type": "code",
   "execution_count": null,
   "metadata": {},
   "outputs": [],
   "source": [
    "# STUFF THAT WONT WORK (see trying to compute mean)"
   ]
  },
  {
   "cell_type": "code",
   "execution_count": 82,
   "metadata": {},
   "outputs": [],
   "source": [
    "speeddating = np.genfromtxt('../Dataset/sd.csv', delimiter=',')"
   ]
  },
  {
   "cell_type": "code",
   "execution_count": 83,
   "metadata": {},
   "outputs": [
    {
     "data": {
      "text/plain": [
       "(8379, 40)"
      ]
     },
     "execution_count": 83,
     "metadata": {},
     "output_type": "execute_result"
    }
   ],
   "source": [
    "speeddating.shape"
   ]
  },
  {
   "cell_type": "code",
   "execution_count": 84,
   "metadata": {
    "scrolled": true
   },
   "outputs": [
    {
     "data": {
      "text/plain": [
       "array([[nan, nan, nan, ..., nan, nan, nan],\n",
       "       [ 6.,  0.,  2., ...,  6.,  0.,  0.],\n",
       "       [ 1.,  0.,  2., ...,  5.,  1.,  0.],\n",
       "       ...,\n",
       "       [ 4.,  0.,  1., ...,  5.,  0.,  0.],\n",
       "       [ 3.,  0.,  1., ...,  5.,  0.,  0.],\n",
       "       [ 3.,  0.,  1., ...,  5.,  0.,  0.]])"
      ]
     },
     "execution_count": 84,
     "metadata": {},
     "output_type": "execute_result"
    }
   ],
   "source": [
    "speeddating"
   ]
  },
  {
   "cell_type": "code",
   "execution_count": 85,
   "metadata": {},
   "outputs": [],
   "source": [
    "sd = speeddating[1:]"
   ]
  },
  {
   "cell_type": "code",
   "execution_count": 86,
   "metadata": {},
   "outputs": [
    {
     "data": {
      "text/plain": [
       "array([[ 6.,  0.,  2., ...,  6.,  0.,  0.],\n",
       "       [ 1.,  0.,  2., ...,  5.,  1.,  0.],\n",
       "       [ 1.,  1.,  2., ..., nan,  1.,  1.],\n",
       "       ...,\n",
       "       [ 4.,  0.,  1., ...,  5.,  0.,  0.],\n",
       "       [ 3.,  0.,  1., ...,  5.,  0.,  0.],\n",
       "       [ 3.,  0.,  1., ...,  5.,  0.,  0.]])"
      ]
     },
     "execution_count": 86,
     "metadata": {},
     "output_type": "execute_result"
    }
   ],
   "source": [
    "sd"
   ]
  },
  {
   "cell_type": "code",
   "execution_count": 87,
   "metadata": {},
   "outputs": [],
   "source": [
    "arr = sd"
   ]
  },
  {
   "cell_type": "code",
   "execution_count": 88,
   "metadata": {},
   "outputs": [
    {
     "name": "stdout",
     "output_type": "stream",
     "text": [
      "4.1856051563619\n",
      "0.3957985199331583\n",
      "nan\n",
      "nan\n",
      "nan\n",
      "nan\n",
      "nan\n",
      "nan\n",
      "nan\n",
      "nan\n",
      "nan\n",
      "nan\n",
      "nan\n",
      "nan\n",
      "nan\n",
      "nan\n",
      "nan\n",
      "nan\n",
      "nan\n",
      "nan\n",
      "nan\n",
      "nan\n",
      "nan\n",
      "nan\n",
      "nan\n",
      "nan\n",
      "nan\n",
      "nan\n",
      "nan\n",
      "nan\n",
      "nan\n",
      "nan\n",
      "nan\n",
      "nan\n",
      "nan\n",
      "nan\n",
      "nan\n",
      "nan\n",
      "nan\n",
      "0.16471711625686322\n"
     ]
    }
   ],
   "source": [
    "for i in range(0,40):\n",
    "    median = arr[...,i].mean()\n",
    "    print(median)"
   ]
  },
  {
   "cell_type": "code",
   "execution_count": 20,
   "metadata": {},
   "outputs": [],
   "source": [
    "mask = np.isnan(arr).any(axis=1)"
   ]
  },
  {
   "cell_type": "code",
   "execution_count": 21,
   "metadata": {},
   "outputs": [],
   "source": [
    "arr = arr[~mask]"
   ]
  },
  {
   "cell_type": "code",
   "execution_count": 22,
   "metadata": {},
   "outputs": [
    {
     "data": {
      "text/plain": [
       "array([[6., 0., 2., ..., 6., 0., 0.],\n",
       "       [1., 0., 2., ..., 5., 1., 0.],\n",
       "       [2., 0., 2., ..., 6., 0., 1.],\n",
       "       ...,\n",
       "       [1., 0., 4., ..., 1., 0., 0.],\n",
       "       [2., 0., 4., ..., 1., 0., 0.],\n",
       "       [1., 0., 4., ..., 1., 0., 0.]])"
      ]
     },
     "execution_count": 22,
     "metadata": {},
     "output_type": "execute_result"
    }
   ],
   "source": [
    "arr"
   ]
  },
  {
   "cell_type": "code",
   "execution_count": 23,
   "metadata": {},
   "outputs": [
    {
     "data": {
      "text/plain": [
       "(1048, 40)"
      ]
     },
     "execution_count": 23,
     "metadata": {},
     "output_type": "execute_result"
    }
   ],
   "source": [
    "arr.shape"
   ]
  },
  {
   "cell_type": "code",
   "execution_count": null,
   "metadata": {},
   "outputs": [],
   "source": []
  }
 ],
 "metadata": {
  "kernelspec": {
   "display_name": "Python 3",
   "language": "python",
   "name": "python3"
  },
  "language_info": {
   "codemirror_mode": {
    "name": "ipython",
    "version": 3
   },
   "file_extension": ".py",
   "mimetype": "text/x-python",
   "name": "python",
   "nbconvert_exporter": "python",
   "pygments_lexer": "ipython3",
   "version": "3.7.3"
  }
 },
 "nbformat": 4,
 "nbformat_minor": 2
}
